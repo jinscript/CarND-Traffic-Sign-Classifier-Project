{
 "cells": [
  {
   "cell_type": "markdown",
   "metadata": {},
   "source": [
    "# Self-Driving Car Engineer Nanodegree\n",
    "\n",
    "## Deep Learning\n",
    "\n",
    "## Project: Build a Traffic Sign Recognition Classifier\n",
    "\n",
    "In this notebook, a template is provided for you to implement your functionality in stages, which is required to successfully complete this project. If additional code is required that cannot be included in the notebook, be sure that the Python code is successfully imported and included in your submission if necessary. \n",
    "\n",
    "> **Note**: Once you have completed all of the code implementations, you need to finalize your work by exporting the iPython Notebook as an HTML document. Before exporting the notebook to html, all of the code cells need to have been run so that reviewers can see the final implementation and output. You can then export the notebook by using the menu above and navigating to  \\n\",\n",
    "    \"**File -> Download as -> HTML (.html)**. Include the finished document along with this notebook as your submission. \n",
    "\n",
    "In addition to implementing code, there is a writeup to complete. The writeup should be completed in a separate file, which can be either a markdown file or a pdf document. There is a [write up template](https://github.com/udacity/CarND-Traffic-Sign-Classifier-Project/blob/master/writeup_template.md) that can be used to guide the writing process. Completing the code template and writeup template will cover all of the [rubric points](https://review.udacity.com/#!/rubrics/481/view) for this project.\n",
    "\n",
    "The [rubric](https://review.udacity.com/#!/rubrics/481/view) contains \"Stand Out Suggestions\" for enhancing the project beyond the minimum requirements. The stand out suggestions are optional. If you decide to pursue the \"stand out suggestions\", you can include the code in this Ipython notebook and also discuss the results in the writeup file.\n",
    "\n",
    "\n",
    ">**Note:** Code and Markdown cells can be executed using the **Shift + Enter** keyboard shortcut. In addition, Markdown cells can be edited by typically double-clicking the cell to enter edit mode."
   ]
  },
  {
   "cell_type": "markdown",
   "metadata": {},
   "source": [
    "---\n",
    "## Step 0: Load The Data"
   ]
  },
  {
   "cell_type": "code",
   "execution_count": 53,
   "metadata": {
    "collapsed": true
   },
   "outputs": [],
   "source": [
    "# Load pickled data\n",
    "import os\n",
    "import pickle\n",
    "import numpy as np\n",
    "\n",
    "DATA_SET_URL = 'https://d17h27t6h515a5.cloudfront.net/topher/2017/February/5898cd6f_traffic-signs-data/traffic-signs-data.zip'\n",
    "DATA_SET_DIR = './data'\n",
    "DATA_SET_FILE = os.path.join(DATA_SET_DIR, 'traffic-signs-data.zip')\n",
    "\n",
    "if not os.path.exists(DATA_SET_DIR):\n",
    "    os.mkdir(DATA_SET_DIR)\n",
    "\n",
    "# download data, this may take a while in the background\n",
    "if not os.path.exists(DATA_SET_FILE):\n",
    "    os.system('wget -P {} {}'.format(DATA_SET_DIR, DATA_SET_URL))\n",
    "os.system('unzip -d {} {}'.format(DATA_SET_DIR, DATA_SET_FILE))\n",
    "\n",
    "# Fill this in based on where you saved the training and testing data\n",
    "training_file = os.path.join(DATA_SET_DIR, 'train.p')\n",
    "validation_file = os.path.join(DATA_SET_DIR, 'valid.p')\n",
    "testing_file = os.path.join(DATA_SET_DIR, 'test.p')\n",
    "\n",
    "with open(training_file, mode='rb') as f:\n",
    "    train = pickle.load(f)\n",
    "with open(validation_file, mode='rb') as f:\n",
    "    valid = pickle.load(f)\n",
    "with open(testing_file, mode='rb') as f:\n",
    "    test = pickle.load(f)\n",
    "    \n",
    "X_train, y_train = np.array(train['features']), np.array([train['labels']]).T\n",
    "X_valid, y_valid = np.array(valid['features']), np.array([valid['labels']]).T\n",
    "X_test, y_test = np.array(test['features']), np.array([test['labels']]).T"
   ]
  },
  {
   "cell_type": "markdown",
   "metadata": {},
   "source": [
    "---\n",
    "\n",
    "## Step 1: Dataset Summary & Exploration\n",
    "\n",
    "The pickled data is a dictionary with 4 key/value pairs:\n",
    "\n",
    "- `'features'` is a 4D array containing raw pixel data of the traffic sign images, (num examples, width, height, channels).\n",
    "- `'labels'` is a 1D array containing the label/class id of the traffic sign. The file `signnames.csv` contains id -> name mappings for each id.\n",
    "- `'sizes'` is a list containing tuples, (width, height) representing the original width and height the image.\n",
    "- `'coords'` is a list containing tuples, (x1, y1, x2, y2) representing coordinates of a bounding box around the sign in the image. **THESE COORDINATES ASSUME THE ORIGINAL IMAGE. THE PICKLED DATA CONTAINS RESIZED VERSIONS (32 by 32) OF THESE IMAGES**\n",
    "\n",
    "Complete the basic data summary below. Use python, numpy and/or pandas methods to calculate the data summary rather than hard coding the results. For example, the [pandas shape method](http://pandas.pydata.org/pandas-docs/stable/generated/pandas.DataFrame.shape.html) might be useful for calculating some of the summary results. "
   ]
  },
  {
   "cell_type": "markdown",
   "metadata": {},
   "source": [
    "### Provide a Basic Summary of the Data Set Using Python, Numpy and/or Pandas"
   ]
  },
  {
   "cell_type": "code",
   "execution_count": 54,
   "metadata": {},
   "outputs": [
    {
     "name": "stdout",
     "output_type": "stream",
     "text": [
      "Number of training examples = 34799\n",
      "Number of validation examples = 4410\n",
      "Number of testing examples = 12630\n",
      "Image data shape = (32, 32, 3)\n",
      "Number of classes = 43\n"
     ]
    }
   ],
   "source": [
    "### Replace each question mark with the appropriate value. \n",
    "### Use python, pandas or numpy methods rather than hard coding the results\n",
    "\n",
    "# Number of training examples\n",
    "n_train = len(X_train)\n",
    "\n",
    "# Number of validation examples\n",
    "n_validation = len(X_valid)\n",
    "\n",
    "# Number of testing examples.\n",
    "n_test = len(X_test)\n",
    "\n",
    "# What's the shape of an traffic sign image?\n",
    "image_shape = X_train[0].shape\n",
    "\n",
    "# How many unique classes/labels there are in the dataset.\n",
    "n_classes = len(np.unique(y_train))\n",
    "\n",
    "print(\"Number of training examples =\", n_train)\n",
    "print(\"Number of validation examples =\", n_validation)\n",
    "print(\"Number of testing examples =\", n_test)\n",
    "print(\"Image data shape =\", image_shape)\n",
    "print(\"Number of classes =\", n_classes)"
   ]
  },
  {
   "cell_type": "markdown",
   "metadata": {},
   "source": [
    "### Include an exploratory visualization of the dataset"
   ]
  },
  {
   "cell_type": "markdown",
   "metadata": {},
   "source": [
    "Visualize the German Traffic Signs Dataset using the pickled file(s). This is open ended, suggestions include: plotting traffic sign images, plotting the count of each sign, etc. \n",
    "\n",
    "The [Matplotlib](http://matplotlib.org/) [examples](http://matplotlib.org/examples/index.html) and [gallery](http://matplotlib.org/gallery.html) pages are a great resource for doing visualizations in Python.\n",
    "\n",
    "**NOTE:** It's recommended you start with something simple first. If you wish to do more, come back to it after you've completed the rest of the sections. It can be interesting to look at the distribution of classes in the training, validation and test set. Is the distribution the same? Are there more examples of some classes than others?"
   ]
  },
  {
   "cell_type": "code",
   "execution_count": 55,
   "metadata": {},
   "outputs": [
    {
     "data": {
      "text/plain": [
       "<matplotlib.image.AxesImage at 0x7f6831177dd8>"
      ]
     },
     "execution_count": 55,
     "metadata": {},
     "output_type": "execute_result"
    },
    {
     "data": {
      "image/png": "[encoded data removed]",
      "text/plain": [
       "<matplotlib.figure.Figure at 0x7f6834e47588>"
      ]
     },
     "metadata": {},
     "output_type": "display_data"
    }
   ],
   "source": [
    "### Data exploration visualization code goes here.\n",
    "### Feel free to use as many code cells as needed.\n",
    "import matplotlib.pyplot as plt\n",
    "# Visualizations will be shown in the notebook.\n",
    "%matplotlib inline\n",
    "fig = plt.figure()\n",
    "fig.add_subplot(1,5,1)\n",
    "plt.imshow(X_train[0])\n",
    "fig.add_subplot(1,5,2)\n",
    "plt.imshow(X_train[10])\n",
    "fig.add_subplot(1,5,3)\n",
    "plt.imshow(X_train[20])\n",
    "fig.add_subplot(1,5,4)\n",
    "plt.imshow(X_train[30])\n",
    "fig.add_subplot(1,5,5)\n",
    "plt.imshow(X_train[40])"
   ]
  },
  {
   "cell_type": "markdown",
   "metadata": {},
   "source": [
    "----\n",
    "\n",
    "## Step 2: Design and Test a Model Architecture\n",
    "\n",
    "Design and implement a deep learning model that learns to recognize traffic signs. Train and test your model on the [German Traffic Sign Dataset](http://benchmark.ini.rub.de/?section=gtsrb&subsection=dataset).\n",
    "\n",
    "The LeNet-5 implementation shown in the [classroom](https://classroom.udacity.com/nanodegrees/nd013/parts/fbf77062-5703-404e-b60c-95b78b2f3f9e/modules/6df7ae49-c61c-4bb2-a23e-6527e69209ec/lessons/601ae704-1035-4287-8b11-e2c2716217ad/concepts/d4aca031-508f-4e0b-b493-e7b706120f81) at the end of the CNN lesson is a solid starting point. You'll have to change the number of classes and possibly the preprocessing, but aside from that it's plug and play! \n",
    "\n",
    "With the LeNet-5 solution from the lecture, you should expect a validation set accuracy of about 0.89. To meet specifications, the validation set accuracy will need to be at least 0.93. It is possible to get an even higher accuracy, but 0.93 is the minimum for a successful project submission. \n",
    "\n",
    "There are various aspects to consider when thinking about this problem:\n",
    "\n",
    "- Neural network architecture (is the network over or underfitting?)\n",
    "- Play around preprocessing techniques (normalization, rgb to grayscale, etc)\n",
    "- Number of examples per label (some have more than others).\n",
    "- Generate fake data.\n",
    "\n",
    "Here is an example of a [published baseline model on this problem](http://yann.lecun.com/exdb/publis/pdf/sermanet-ijcnn-11.pdf). It's not required to be familiar with the approach used in the paper but, it's good practice to try to read papers like these."
   ]
  },
  {
   "cell_type": "markdown",
   "metadata": {},
   "source": [
    "### Pre-process the Data Set (normalization, grayscale, etc.)"
   ]
  },
  {
   "cell_type": "markdown",
   "metadata": {},
   "source": [
    "Minimally, the image data should be normalized so that the data has mean zero and equal variance. For image data, `(pixel - 128)/ 128` is a quick way to approximately normalize the data and can be used in this project. \n",
    "\n",
    "Other pre-processing steps are optional. You can try different techniques to see if it improves performance. \n",
    "\n",
    "Use the code cell (or multiple code cells, if necessary) to implement the first step of your project."
   ]
  },
  {
   "cell_type": "code",
   "execution_count": 56,
   "metadata": {
    "collapsed": true
   },
   "outputs": [],
   "source": [
    "import cv2\n",
    "from random import shuffle\n",
    "from scipy import ndimage\n",
    "\n",
    "# helper functions\n",
    "def normalize(images):\n",
    "    return np.asarray(images) / 255 - 0.5\n",
    "\n",
    "def rotate(images, degree):\n",
    "    return np.asarray([ndimage.rotate(img, degree, reshape=False) for img in images])\n",
    "\n",
    "def one_hot(indices, depth):\n",
    "    mat = np.zeros((indices.shape[0], depth))\n",
    "    mat[np.arange(indices.shape[0]), indices.T] = 1\n",
    "    return mat\n",
    "\n",
    "def preprocess(images, labels, is_training=False, shuffle_data=True):\n",
    "    assert len(images) == len(labels)\n",
    "    \n",
    "    imgs = normalize(images)\n",
    "    labls = one_hot(labels, n_classes)\n",
    "    images_, labels_ = np.copy(imgs), np.copy(labls)\n",
    "\n",
    "    if(is_training==True):\n",
    "\n",
    "        images_ = np.concatenate((images_, rotate(imgs, 10)), axis=0)\n",
    "        images_ = np.concatenate((images_, rotate(imgs, -10)), axis=0)\n",
    "        labels_ = np.concatenate((labels_, labls), axis=0)\n",
    "        labels_ = np.concatenate((labels_, labls), axis=0)\n",
    "\n",
    "    ind = list(range(len(images_)))\n",
    "    if shuffle_data:\n",
    "        shuffle(ind)\n",
    "    return images_[ind], labels_[ind] \n",
    "\n",
    "def get_batches(data, labels, batch_size):\n",
    "    assert len(data) == len(labels)\n",
    "    batches = []\n",
    "    for i in range(0, len(data), batch_size):\n",
    "        batches.append((data[i: i + batch_size], labels[i: i + batch_size]))\n",
    "    return batches"
   ]
  },
  {
   "cell_type": "code",
   "execution_count": 57,
   "metadata": {
    "collapsed": true
   },
   "outputs": [],
   "source": [
    "### Preprocess the data here. It is required to normalize the data. Other preprocessing steps could include \n",
    "### converting to grayscale, etc.\n",
    "### Feel free to use as many code cells as needed.\n",
    "X_train, y_train = preprocess(X_train, y_train, is_training=True)\n",
    "X_valid, y_valid = preprocess(X_valid, y_valid)\n",
    "X_test, y_test = preprocess(X_test, y_test)"
   ]
  },
  {
   "cell_type": "markdown",
   "metadata": {},
   "source": [
    "### Model Architecture"
   ]
  },
  {
   "cell_type": "code",
   "execution_count": 58,
   "metadata": {
    "collapsed": true
   },
   "outputs": [],
   "source": [
    "### Define your architecture here.\n",
    "### Feel free to use as many code cells as needed.\n",
    "import tensorflow as tf\n",
    "from tensorflow.contrib.layers import flatten\n",
    "\n",
    "def softmax_regression(X, y, learning_rate):\n",
    "    \n",
    "    mu, sigma = 0, 0.1\n",
    "    \n",
    "    W = tf.Variable(tf.truncated_normal(shape=(32*32*1, 43), mean=mu, stddev=sigma), name='W')\n",
    "    b = tf.Variable(tf.zeros(43), name='b')\n",
    "    fc = tf.matmul(flatten(X), W)\n",
    "    logits = tf.nn.bias_add(fc, b)\n",
    "\n",
    "    y_hat = tf.nn.softmax(logits=logits)\n",
    "    loss = tf.reduce_mean(tf.nn.softmax_cross_entropy_with_logits(logits=logits, labels=y))\n",
    "    accuracy = tf.reduce_mean(tf.cast(tf.equal(tf.argmax(logits, 1), tf.argmax(y, 1)), tf.float32))\n",
    "    optimizer = tf.train.AdamOptimizer(learning_rate=learning_rate).minimize(loss)\n",
    "\n",
    "    layer_map = {}\n",
    "    \n",
    "    return y_hat, loss, accuracy, optimizer, layer_map\n",
    "\n",
    "def lenet(X, y, learning_rate):\n",
    "\n",
    "    mu, sigma = 0, 0.1\n",
    "\n",
    "    # Layer 1: Convolutional. Input = 32x32x3. Output = 28x28x6.\n",
    "    conv1_W = tf.Variable(tf.truncated_normal(shape=(5, 5, 3, 6), mean=mu, stddev=sigma))\n",
    "    conv1_b = tf.Variable(tf.zeros(6))\n",
    "    conv1   = tf.nn.conv2d(X, conv1_W, strides=(1, 1, 1, 1), padding='VALID')\n",
    "    conv1   = tf.nn.bias_add(conv1, conv1_b)\n",
    "\n",
    "    # Activation.\n",
    "    conv1 = tf.nn.relu(conv1)\n",
    "\n",
    "    # Pooling. Input = 28x28x6. Output = 14x14x6.\n",
    "    conv1 = tf.nn.max_pool(conv1, ksize=(1, 2, 2, 1), strides=(1, 2, 2, 1), padding='VALID')\n",
    "\n",
    "    # Layer 2: Convolutional. Output = 10x10x16.\n",
    "    conv2_W = tf.Variable(tf.truncated_normal(shape=(5, 5, 6, 16), mean=mu, stddev=sigma))\n",
    "    conv2_b = tf.Variable(tf.zeros(16))\n",
    "    conv2   = tf.nn.conv2d(conv1, conv2_W, strides=(1, 1, 1, 1), padding='VALID')\n",
    "    conv2   = tf.nn.bias_add(conv2, conv2_b)\n",
    "\n",
    "    # Activation.\n",
    "    conv2 = tf.nn.relu(conv2)\n",
    "\n",
    "    # Pooling. Input = 10x10x16. Output = 5x5x16.\n",
    "    conv2 = tf.nn.max_pool(conv2, ksize=(1, 2, 2, 1), strides=(1, 2, 2, 1), padding='VALID')\n",
    "\n",
    "    # Flatten. Input = 5x5x16. Output = 400.\n",
    "    fc0   = flatten(conv2)\n",
    "\n",
    "    # Layer 3: Fully Connected. Input = 400. Output = 120.\n",
    "    fc1_W = tf.Variable(tf.truncated_normal(shape=(400, 120), mean=mu, stddev=sigma))\n",
    "    fc1_b = tf.Variable(tf.zeros(120))\n",
    "    fc1   = tf.matmul(fc0, fc1_W)\n",
    "    fc1   = tf.nn.bias_add(fc1, fc1_b)\n",
    "\n",
    "    # Activation.\n",
    "    fc1    = tf.nn.relu(fc1)\n",
    "\n",
    "    # Layer 4: Fully Connected. Input = 120. Output = 84.\n",
    "    fc2_W  = tf.Variable(tf.truncated_normal(shape=(120, 84), mean=mu, stddev=sigma))\n",
    "    fc2_b  = tf.Variable(tf.zeros(84))\n",
    "    fc2    = tf.matmul(fc1, fc2_W)\n",
    "    fc2    = tf.nn.bias_add(fc2, fc2_b)\n",
    "\n",
    "    # Activation.\n",
    "    fc2    = tf.nn.relu(fc2)\n",
    "\n",
    "    # Layer 5: Fully Connected. Input = 84. Output = 43.\n",
    "    fc3_W  = tf.Variable(tf.truncated_normal(shape=(84, 43), mean=mu, stddev=sigma))\n",
    "    fc3_b  = tf.Variable(tf.zeros(43))\n",
    "    logits = tf.matmul(fc2, fc3_W)\n",
    "    logits = tf.nn.bias_add(logits, fc3_b)\n",
    "    \n",
    "    y_hat = tf.nn.softmax(logits=logits)\n",
    "    loss = tf.reduce_mean(tf.nn.softmax_cross_entropy_with_logits(logits=logits, labels=y))\n",
    "    accuracy = tf.reduce_mean(tf.cast(tf.equal(tf.argmax(logits, 1), tf.argmax(y, 1)), tf.float32))\n",
    "    optimizer = tf.train.AdamOptimizer(learning_rate=learning_rate).minimize(loss)\n",
    "    layer_map = {'conv1': conv1, 'conv2': conv2}\n",
    "\n",
    "    return y_hat, loss, accuracy, optimizer, layer_map"
   ]
  },
  {
   "cell_type": "markdown",
   "metadata": {},
   "source": [
    "### Train, Validate and Test the Model"
   ]
  },
  {
   "cell_type": "markdown",
   "metadata": {},
   "source": [
    "A validation set can be used to assess how well the model is performing. A low accuracy on the training and validation\n",
    "sets imply underfitting. A high accuracy on the training set but low accuracy on the validation set implies overfitting."
   ]
  },
  {
   "cell_type": "code",
   "execution_count": 59,
   "metadata": {},
   "outputs": [
    {
     "name": "stdout",
     "output_type": "stream",
     "text": [
      "Start Training ...\n",
      "Epoch: 0    - Training Loss: 0.236    Training Accuracy: 0.94  Validation Accuracy: 0.892\n",
      "Epoch: 1    - Training Loss: 0.103    Training Accuracy: 0.976 Validation Accuracy: 0.916\n",
      "Epoch: 2    - Training Loss: 0.0618   Training Accuracy: 0.985 Validation Accuracy: 0.922\n",
      "Epoch: 3    - Training Loss: 0.0386   Training Accuracy: 0.99  Validation Accuracy: 0.918\n",
      "Epoch: 4    - Training Loss: 0.027    Training Accuracy: 0.993 Validation Accuracy: 0.929\n",
      "Epoch: 5    - Training Loss: 0.0257   Training Accuracy: 0.994 Validation Accuracy: 0.923\n",
      "Epoch: 6    - Training Loss: 0.0226   Training Accuracy: 0.993 Validation Accuracy: 0.928\n",
      "Epoch: 7    - Training Loss: 0.0141   Training Accuracy: 0.996 Validation Accuracy: 0.931\n",
      "Epoch: 8    - Training Loss: 0.00798  Training Accuracy: 0.997 Validation Accuracy: 0.931\n",
      "Epoch: 9    - Training Loss: 0.0115   Training Accuracy: 0.997 Validation Accuracy: 0.946\n",
      "Epoch: 10   - Training Loss: 0.0165   Training Accuracy: 0.996 Validation Accuracy: 0.937\n",
      "Epoch: 11   - Training Loss: 0.00597  Training Accuracy: 0.998 Validation Accuracy: 0.928\n",
      "Epoch: 12   - Training Loss: 0.0115   Training Accuracy: 0.997 Validation Accuracy: 0.929\n",
      "Epoch: 13   - Training Loss: 0.00887  Training Accuracy: 0.998 Validation Accuracy: 0.935\n",
      "Epoch: 14   - Training Loss: 0.0173   Training Accuracy: 0.997 Validation Accuracy: 0.935\n",
      "Epoch: 15   - Training Loss: 0.014    Training Accuracy: 0.997 Validation Accuracy: 0.935\n",
      "Epoch: 16   - Training Loss: 0.0161   Training Accuracy: 0.994 Validation Accuracy: 0.94 \n",
      "Epoch: 17   - Training Loss: 0.00327  Training Accuracy: 0.999 Validation Accuracy: 0.946\n",
      "Epoch: 18   - Training Loss: 0.00271  Training Accuracy: 0.999 Validation Accuracy: 0.944\n",
      "Epoch: 19   - Training Loss: 0.021    Training Accuracy: 0.994 Validation Accuracy: 0.942\n",
      "Epoch: 20   - Training Loss: 0.00549  Training Accuracy: 0.998 Validation Accuracy: 0.946\n",
      "Epoch: 21   - Training Loss: 0.00743  Training Accuracy: 0.997 Validation Accuracy: 0.943\n",
      "Epoch: 22   - Training Loss: 0.00192  Training Accuracy: 1.0   Validation Accuracy: 0.953\n",
      "Epoch: 23   - Training Loss: 0.00534  Training Accuracy: 0.998 Validation Accuracy: 0.95 \n",
      "Epoch: 24   - Training Loss: 0.0272   Training Accuracy: 0.995 Validation Accuracy: 0.921\n",
      "Epoch: 25   - Training Loss: 0.00487  Training Accuracy: 0.998 Validation Accuracy: 0.948\n",
      "Epoch: 26   - Training Loss: 0.00307  Training Accuracy: 0.999 Validation Accuracy: 0.946\n",
      "Epoch: 27   - Training Loss: 0.00612  Training Accuracy: 0.999 Validation Accuracy: 0.942\n",
      "Epoch: 28   - Training Loss: 0.00433  Training Accuracy: 0.999 Validation Accuracy: 0.95 \n",
      "Epoch: 29   - Training Loss: 0.0118   Training Accuracy: 0.997 Validation Accuracy: 0.945\n",
      "Epoch: 30   - Training Loss: 0.00615  Training Accuracy: 0.997 Validation Accuracy: 0.943\n",
      "Epoch: 31   - Training Loss: 0.00659  Training Accuracy: 0.999 Validation Accuracy: 0.951\n",
      "Epoch: 32   - Training Loss: 0.0123   Training Accuracy: 0.997 Validation Accuracy: 0.943\n",
      "Epoch: 33   - Training Loss: 0.00514  Training Accuracy: 0.999 Validation Accuracy: 0.948\n",
      "Epoch: 34   - Training Loss: 0.00722  Training Accuracy: 0.999 Validation Accuracy: 0.949\n",
      "Epoch: 35   - Training Loss: 0.00639  Training Accuracy: 0.998 Validation Accuracy: 0.942\n",
      "Epoch: 36   - Training Loss: 0.0049   Training Accuracy: 0.996 Validation Accuracy: 0.946\n",
      "Epoch: 37   - Training Loss: 0.00333  Training Accuracy: 0.999 Validation Accuracy: 0.946\n",
      "Epoch: 38   - Training Loss: 0.00619  Training Accuracy: 0.997 Validation Accuracy: 0.952\n",
      "Epoch: 39   - Training Loss: 0.00556  Training Accuracy: 0.998 Validation Accuracy: 0.946\n",
      "Epoch: 40   - Training Loss: 0.00587  Training Accuracy: 1.0   Validation Accuracy: 0.956\n",
      "Epoch: 41   - Training Loss: 0.00201  Training Accuracy: 0.999 Validation Accuracy: 0.959\n",
      "Epoch: 42   - Training Loss: 0.00817  Training Accuracy: 0.999 Validation Accuracy: 0.946\n",
      "Epoch: 43   - Training Loss: 0.00768  Training Accuracy: 0.998 Validation Accuracy: 0.94 \n",
      "Epoch: 44   - Training Loss: 0.00425  Training Accuracy: 0.999 Validation Accuracy: 0.959\n",
      "Epoch: 45   - Training Loss: 4.4e-05  Training Accuracy: 1.0   Validation Accuracy: 0.96 \n",
      "Epoch: 46   - Training Loss: 0.0138   Training Accuracy: 0.996 Validation Accuracy: 0.94 \n",
      "Epoch: 47   - Training Loss: 0.000296 Training Accuracy: 1.0   Validation Accuracy: 0.955\n",
      "Epoch: 48   - Training Loss: 0.00177  Training Accuracy: 0.999 Validation Accuracy: 0.951\n",
      "Epoch: 49   - Training Loss: 0.00283  Training Accuracy: 0.999 Validation Accuracy: 0.966\n",
      "Test accuracy: 0.9376093745231628\n"
     ]
    },
    {
     "data": {
      "text/plain": [
       "'./model/model.ckpt'"
      ]
     },
     "execution_count": 59,
     "metadata": {},
     "output_type": "execute_result"
    }
   ],
   "source": [
    "### Train your model here.\n",
    "### Calculate and report the accuracy on the training and validation set.\n",
    "### Once a final model architecture is selected, \n",
    "### the accuracy on the test set should be calculated and reported as well.\n",
    "### Feel free to use as many code cells as needed.\n",
    "import os\n",
    "MODEL_DIR = './model'\n",
    "\n",
    "batch_size = 128\n",
    "epochs = 50\n",
    "learning_rate = 0.001\n",
    "\n",
    "data = tf.placeholder(tf.float32, shape=(None, image_shape[0], image_shape[1], image_shape[2]), name='data')\n",
    "labels = tf.placeholder(tf.float32, shape=(None, n_classes), name='labels')\n",
    "predictions, loss, accuracy, optimizer, layer_map = lenet(data, labels, learning_rate)\n",
    "init = tf.global_variables_initializer()\n",
    "train_batches = get_batches(X_train, y_train, batch_size)\n",
    "\n",
    "sess = tf.Session()\n",
    "sess.run(init)\n",
    "print('Start Training ...')\n",
    "# Training\n",
    "for epoch_i in range(epochs):\n",
    "    for X_train_batch, y_train_batch in train_batches:\n",
    "        # train batch\n",
    "        sess.run(optimizer, feed_dict={data: X_train_batch, labels: y_train_batch})\n",
    "\n",
    "    # compute sampled training loss\n",
    "    train_loss = sess.run(loss, feed_dict={data: X_train[:5000], labels: y_train[:5000]})\n",
    "    # compute training accuracy\n",
    "    train_accuracy = sess.run(accuracy, feed_dict={data: X_train, labels: y_train})\n",
    "    # compute validation accuracy\n",
    "    validation_accuracy = sess.run(accuracy, feed_dict={data: X_valid, labels: y_valid})\n",
    "\n",
    "    # print(y_train[0])\n",
    "    print('Epoch: {:<4} - Training Loss: {:<8.3} Training Accuracy: {:<5.3} Validation Accuracy: {:<5.3}'.format(\n",
    "        epoch_i, train_loss, train_accuracy, validation_accuracy))\n",
    "\n",
    "test_accuracy = sess.run(accuracy, feed_dict={data: X_test, labels: y_test})\n",
    "print('Test accuracy: {}'.format(test_accuracy))\n",
    "\n",
    "if not os.path.exists(MODEL_DIR):\n",
    "    os.mkdir(MODEL_DIR)\n",
    "saver = tf.train.Saver()\n",
    "saver.save(sess, os.path.join(MODEL_DIR, 'model.ckpt'))"
   ]
  },
  {
   "cell_type": "markdown",
   "metadata": {},
   "source": [
    "---\n",
    "\n",
    "## Step 3: Test a Model on New Images\n",
    "\n",
    "To give yourself more insight into how your model is working, download at least five pictures of German traffic signs from the web and use your model to predict the traffic sign type.\n",
    "\n",
    "You may find `signnames.csv` useful as it contains mappings from the class id (integer) to the actual sign name."
   ]
  },
  {
   "cell_type": "markdown",
   "metadata": {},
   "source": [
    "### Load and Output the Images"
   ]
  },
  {
   "cell_type": "code",
   "execution_count": 60,
   "metadata": {},
   "outputs": [
    {
     "data": {
      "image/png": "[encoded data removed]",
      "text/plain": [
       "<matplotlib.figure.Figure at 0x7f6830de5940>"
      ]
     },
     "metadata": {},
     "output_type": "display_data"
    }
   ],
   "source": [
    "### Load the images and plot them here.\n",
    "### Feel free to use as many code cells as needed.\n",
    "import cv2\n",
    "import matplotlib.pyplot as plt\n",
    "# Visualizations will be shown in the notebook.\n",
    "%matplotlib inline\n",
    "\n",
    "images = []\n",
    "classes = [0, 1, 2, 3, 4]\n",
    "for c in classes:\n",
    "    im = cv2.imread('traffic_signs/{}.ppm'.format(c))\n",
    "    im = cv2.resize(im, (32, 32), interpolation = cv2.INTER_CUBIC)\n",
    "    im = cv2.cvtColor(im, cv2.COLOR_BGR2RGB)\n",
    "    images.append(im)\n",
    "\n",
    "fig = plt.figure()\n",
    "\n",
    "for i, im in enumerate(images):\n",
    "    fig.add_subplot(1, 5, i + 1);\n",
    "    plt.imshow(im)"
   ]
  },
  {
   "cell_type": "markdown",
   "metadata": {},
   "source": [
    "### Predict the Sign Type for Each Image"
   ]
  },
  {
   "cell_type": "code",
   "execution_count": 61,
   "metadata": {},
   "outputs": [
    {
     "name": "stdout",
     "output_type": "stream",
     "text": [
      "Ground truth classes: [0, 1, 2, 3, 4]\n",
      "Predicted classes: [0, 1, 2, 3, 4]\n"
     ]
    }
   ],
   "source": [
    "### Run the predictions here and use the model to output the prediction for each image.\n",
    "### Make sure to pre-process the images with the same pre-processing pipeline used earlier.\n",
    "### Feel free to use as many code cells as needed.\n",
    "# saver = tf.train.Saver()\n",
    "# saver.restore(sess, os.path.join(MODEL_DIR, 'model.ckpt'))\n",
    "d, l = preprocess(images, np.array([classes]).T, shuffle_data=False)\n",
    "scores = sess.run(predictions, feed_dict={data: d, labels: l})\n",
    "predicted_classes = [np.argmax(score) for score in scores]\n",
    "print('Ground truth classes: ' + str(classes))\n",
    "print('Predicted classes: ' + str(predicted_classes))"
   ]
  },
  {
   "cell_type": "markdown",
   "metadata": {},
   "source": [
    "### Analyze Performance"
   ]
  },
  {
   "cell_type": "code",
   "execution_count": 62,
   "metadata": {},
   "outputs": [
    {
     "name": "stdout",
     "output_type": "stream",
     "text": [
      "Accuracy: 1.0\n"
     ]
    }
   ],
   "source": [
    "### Calculate the accuracy for these 5 new images. \n",
    "### For example, if the model predicted 1 out of 5 signs correctly, it's 20% accurate on these new images.\n",
    "accu = sum([int(classes[i] == predicted_classes[i]) for i in classes]) / len(classes)\n",
    "print('Accuracy: ' + str(accu))"
   ]
  },
  {
   "cell_type": "markdown",
   "metadata": {},
   "source": [
    "### Output Top 5 Softmax Probabilities For Each Image Found on the Web"
   ]
  },
  {
   "cell_type": "markdown",
   "metadata": {},
   "source": [
    "For each of the new images, print out the model's softmax probabilities to show the **certainty** of the model's predictions (limit the output to the top 5 probabilities for each image). [`tf.nn.top_k`](https://www.tensorflow.org/versions/r0.12/api_docs/python/nn.html#top_k) could prove helpful here. \n",
    "\n",
    "The example below demonstrates how tf.nn.top_k can be used to find the top k predictions for each image.\n",
    "\n",
    "`tf.nn.top_k` will return the values and indices (class ids) of the top k predictions. So if k=3, for each sign, it'll return the 3 largest probabilities (out of a possible 43) and the correspoding class ids.\n",
    "\n",
    "Take this numpy array as an example. The values in the array represent predictions. The array contains softmax probabilities for five candidate images with six possible classes. `tf.nn.top_k` is used to choose the three classes with the highest probability:\n",
    "\n",
    "```\n",
    "# (5, 6) array\n",
    "a = np.array([[ 0.24879643,  0.07032244,  0.12641572,  0.34763842,  0.07893497,\n",
    "         0.12789202],\n",
    "       [ 0.28086119,  0.27569815,  0.08594638,  0.0178669 ,  0.18063401,\n",
    "         0.15899337],\n",
    "       [ 0.26076848,  0.23664738,  0.08020603,  0.07001922,  0.1134371 ,\n",
    "         0.23892179],\n",
    "       [ 0.11943333,  0.29198961,  0.02605103,  0.26234032,  0.1351348 ,\n",
    "         0.16505091],\n",
    "       [ 0.09561176,  0.34396535,  0.0643941 ,  0.16240774,  0.24206137,\n",
    "         0.09155967]])\n",
    "```\n",
    "\n",
    "Running it through `sess.run(tf.nn.top_k(tf.constant(a), k=3))` produces:\n",
    "\n",
    "```\n",
    "TopKV2(values=array([[ 0.34763842,  0.24879643,  0.12789202],\n",
    "       [ 0.28086119,  0.27569815,  0.18063401],\n",
    "       [ 0.26076848,  0.23892179,  0.23664738],\n",
    "       [ 0.29198961,  0.26234032,  0.16505091],\n",
    "       [ 0.34396535,  0.24206137,  0.16240774]]), indices=array([[3, 0, 5],\n",
    "       [0, 1, 4],\n",
    "       [0, 5, 1],\n",
    "       [1, 3, 5],\n",
    "       [1, 4, 3]], dtype=int32))\n",
    "```\n",
    "\n",
    "Looking just at the first row we get `[ 0.34763842,  0.24879643,  0.12789202]`, you can confirm these are the 3 largest probabilities in `a`. You'll also notice `[3, 0, 5]` are the corresponding indices."
   ]
  },
  {
   "cell_type": "code",
   "execution_count": 63,
   "metadata": {},
   "outputs": [
    {
     "name": "stdout",
     "output_type": "stream",
     "text": [
      "TopKV2(values=array([[  9.99999881e-01,   9.14862497e-08,   3.04374257e-20,\n",
      "          4.13559857e-37,   0.00000000e+00],\n",
      "       [  1.00000000e+00,   9.11649499e-14,   7.05247899e-14,\n",
      "          1.67859828e-16,   3.67321132e-17],\n",
      "       [  1.00000000e+00,   0.00000000e+00,   0.00000000e+00,\n",
      "          0.00000000e+00,   0.00000000e+00],\n",
      "       [  1.00000000e+00,   5.17683583e-18,   4.87006473e-22,\n",
      "          3.71602544e-26,   5.58240499e-30],\n",
      "       [  1.00000000e+00,   2.31206978e-21,   6.56305021e-28,\n",
      "          3.04722272e-31,   2.70316721e-35]], dtype=float32), indices=array([[ 0,  1,  4,  8,  2],\n",
      "       [ 1,  5,  2,  4,  0],\n",
      "       [ 2,  0,  1,  3,  4],\n",
      "       [ 3,  2,  5,  1, 11],\n",
      "       [ 4,  1,  7,  0,  8]], dtype=int32))\n"
     ]
    }
   ],
   "source": [
    "### Print out the top five softmax probabilities for the predictions on the German traffic sign images found on the web. \n",
    "### Feel free to use as many code cells as needed.\n",
    "top_5 = sess.run(tf.nn.top_k(predictions, 5), feed_dict={data: d, labels: l})\n",
    "print(top_5)"
   ]
  },
  {
   "cell_type": "markdown",
   "metadata": {},
   "source": [
    "### Project Writeup\n",
    "\n",
    "Once you have completed the code implementation, document your results in a project writeup using this [template](https://github.com/udacity/CarND-Traffic-Sign-Classifier-Project/blob/master/writeup_template.md) as a guide. The writeup can be in a markdown or pdf file. "
   ]
  },
  {
   "cell_type": "markdown",
   "metadata": {},
   "source": [
    "> **Note**: Once you have completed all of the code implementations and successfully answered each question above, you may finalize your work by exporting the iPython Notebook as an HTML document. You can do this by using the menu above and navigating to  \\n\",\n",
    "    \"**File -> Download as -> HTML (.html)**. Include the finished document along with this notebook as your submission."
   ]
  },
  {
   "cell_type": "markdown",
   "metadata": {},
   "source": [
    "---\n",
    "\n",
    "## Step 4 (Optional): Visualize the Neural Network's State with Test Images\n",
    "\n",
    " This Section is not required to complete but acts as an additional excersise for understaning the output of a neural network's weights. While neural networks can be a great learning device they are often referred to as a black box. We can understand what the weights of a neural network look like better by plotting their feature maps. After successfully training your neural network you can see what it's feature maps look like by plotting the output of the network's weight layers in response to a test stimuli image. From these plotted feature maps, it's possible to see what characteristics of an image the network finds interesting. For a sign, maybe the inner network feature maps react with high activation to the sign's boundary outline or to the contrast in the sign's painted symbol.\n",
    "\n",
    " Provided for you below is the function code that allows you to get the visualization output of any tensorflow weight layer you want. The inputs to the function should be a stimuli image, one used during training or a new one you provided, and then the tensorflow variable name that represents the layer's state during the training process, for instance if you wanted to see what the [LeNet lab's](https://classroom.udacity.com/nanodegrees/nd013/parts/fbf77062-5703-404e-b60c-95b78b2f3f9e/modules/6df7ae49-c61c-4bb2-a23e-6527e69209ec/lessons/601ae704-1035-4287-8b11-e2c2716217ad/concepts/d4aca031-508f-4e0b-b493-e7b706120f81) feature maps looked like for it's second convolutional layer you could enter conv2 as the tf_activation variable.\n",
    "\n",
    "For an example of what feature map outputs look like, check out NVIDIA's results in their paper [End-to-End Deep Learning for Self-Driving Cars](https://devblogs.nvidia.com/parallelforall/deep-learning-self-driving-cars/) in the section Visualization of internal CNN State. NVIDIA was able to show that their network's inner weights had high activations to road boundary lines by comparing feature maps from an image with a clear path to one without. Try experimenting with a similar test to show that your trained network's weights are looking for interesting features, whether it's looking at differences in feature maps from images with or without a sign, or even what feature maps look like in a trained network vs a completely untrained one on the same sign image.\n",
    "\n",
    "<figure>\n",
    " <img src=\"visualize_cnn.png\" width=\"380\" alt=\"Combined Image\" />\n",
    " <figcaption>\n",
    " <p></p> \n",
    " <p style=\"text-align: center;\"> Your output should look something like this (above)</p> \n",
    " </figcaption>\n",
    "</figure>\n",
    " <p></p> \n"
   ]
  },
  {
   "cell_type": "code",
   "execution_count": 66,
   "metadata": {
    "collapsed": true
   },
   "outputs": [],
   "source": [
    "### Visualize your network's feature maps here.\n",
    "### Feel free to use as many code cells as needed.\n",
    "\n",
    "# image_input: the test image being fed into the network to produce the feature maps\n",
    "# tf_activation: should be a tf variable name used during your training procedure that represents the calculated state of a specific weight layer\n",
    "# activation_min/max: can be used to view the activation contrast in more detail, by default matplot sets min and max to the actual min and max values of the output\n",
    "# plt_num: used to plot out multiple different weight feature map sets on the same block, just extend the plt number for each new feature map entry\n",
    "\n",
    "def outputFeatureMap(image_input, tf_activation, activation_min=-1, activation_max=-1, plt_num=1):\n",
    "    # Here make sure to preprocess your image_input in a way your network expects\n",
    "    # with size, normalization, ect if needed\n",
    "    # image_input =\n",
    "    # Note: x should be the same name as your network's tensorflow data placeholder variable\n",
    "    # If you get an error tf_activation is not defined it may be having trouble accessing the variable from inside a function\n",
    "    activation = tf_activation.eval(session=sess,feed_dict={data: image_input})\n",
    "    featuremaps = activation.shape[3]\n",
    "    plt.figure(plt_num, figsize=(15,15))\n",
    "    for featuremap in range(featuremaps):\n",
    "        plt.subplot(6,8, featuremap+1) # sets the number of feature maps to show on each row and column\n",
    "        plt.title('FeatureMap ' + str(featuremap)) # displays the feature map number\n",
    "        if activation_min != -1 & activation_max != -1:\n",
    "            plt.imshow(activation[0,:,:, featuremap], interpolation=\"nearest\", vmin =activation_min, vmax=activation_max, cmap=\"gray\")\n",
    "        elif activation_max != -1:\n",
    "            plt.imshow(activation[0,:,:, featuremap], interpolation=\"nearest\", vmax=activation_max, cmap=\"gray\")\n",
    "        elif activation_min !=-1:\n",
    "            plt.imshow(activation[0,:,:, featuremap], interpolation=\"nearest\", vmin=activation_min, cmap=\"gray\")\n",
    "        else:\n",
    "            plt.imshow(activation[0,:,:, featuremap], interpolation=\"nearest\", cmap=\"gray\")"
   ]
  },
  {
   "cell_type": "code",
   "execution_count": 68,
   "metadata": {},
   "outputs": [
    {
     "data": {
      "image/png": "[encoded data removed]",
      "text/plain": [
       "<matplotlib.figure.Figure at 0x7f6830b03470>"
      ]
     },
     "metadata": {},
     "output_type": "display_data"
    }
   ],
   "source": [
    "conv1 = layer_map.get('conv1')\n",
    "outputFeatureMap(d[:1], conv1)"
   ]
  },
  {
   "cell_type": "code",
   "execution_count": 69,
   "metadata": {},
   "outputs": [
    {
     "data": {
      "image/png": "[encoded data removed]",
      "text/plain": [
       "<matplotlib.figure.Figure at 0x7f6830883d68>"
      ]
     },
     "metadata": {},
     "output_type": "display_data"
    }
   ],
   "source": [
    "conv2 = layer_map.get('conv2')\n",
    "outputFeatureMap(d[:1], conv2)"
   ]
  }
 ],
 "metadata": {
  "anaconda-cloud": {},
  "kernelspec": {
   "display_name": "Python 3",
   "language": "python",
   "name": "python3"
  },
  "language_info": {
   "codemirror_mode": {
    "name": "ipython",
    "version": 3
   },
   "file_extension": ".py",
   "mimetype": "text/x-python",
   "name": "python",
   "nbconvert_exporter": "python",
   "pygments_lexer": "ipython3",
   "version": "3.5.2"
  },
  "widgets": {
   "state": {},
   "version": "1.1.2"
  }
 },
 "nbformat": 4,
 "nbformat_minor": 1
}
